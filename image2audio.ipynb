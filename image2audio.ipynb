{
 "cells": [
  {
   "cell_type": "markdown",
   "metadata": {},
   "source": [
    "# Import libraries/dependencies"
   ]
  },
  {
   "cell_type": "code",
   "execution_count": null,
   "metadata": {},
   "outputs": [],
   "source": [
    "import wave, struct, math\n",
    "import numpy as np \n",
    "from PIL import Image \n",
    "\n",
    "import scipy                     \n",
    "import matplotlib.pyplot as plt  \n",
    "import scipy.io.wavfile\n",
    "\n",
    "import scipy.ndimage\n",
    "import IPython.display "
   ]
  },
  {
   "cell_type": "markdown",
   "metadata": {},
   "source": [
    "# Function declarations"
   ]
  },
  {
   "cell_type": "markdown",
   "metadata": {},
   "source": [
    "Plot the spectrogram of a sound file"
   ]
  },
  {
   "cell_type": "code",
   "execution_count": null,
   "metadata": {},
   "outputs": [],
   "source": [
    "def plotSpectrogram(file=\"sound.wav\"):\n",
    "    sample_rate, X = scipy.io.wavfile.read(file)\n",
    "    plt.specgram(X, Fs=sample_rate, xextent=(0,60))\n",
    "    print(\"File: \", file)\n",
    "    print(\"Sample rate (Hz): \",sample_rate)"
   ]
  },
  {
   "cell_type": "code",
   "execution_count": null,
   "metadata": {},
   "outputs": [],
   "source": [
    "def plotMat(mat):\n",
    "    mat = np.flip(mat,0)\n",
    "    X, Y = np.meshgrid(range(mat.shape[0]), range(mat.shape[1]))\n",
    "    Z = mat[X,Y]\n",
    "\n",
    "    plt.pcolormesh(Y,X,Z)\n",
    "    plt.show()"
   ]
  },
  {
   "cell_type": "markdown",
   "metadata": {},
   "source": [
    "Loads a picture, converts it to greyscale, then to numpy array, normalise it so that the max value is 1 the min is 0, increase the contrast a bit, remove every pixel which intensity is lower that 0.5, then resize the picture using nearest neighbour resampling and outputs the numpy matrix.\n"
   ]
  },
  {
   "cell_type": "code",
   "execution_count": null,
   "metadata": {},
   "outputs": [],
   "source": [
    "def loadPicture(size, file, verbose=1):\n",
    "    img = Image.open(file)\n",
    "    img = img.convert(\"L\")\n",
    "    \n",
    "    imgArr = np.array(img)\n",
    "    \n",
    "    if verbose:\n",
    "        print(\"Image original size: \", imgArr.shape)\n",
    "        \n",
    "    # increase the contrast of the image\n",
    "    imgArr = imgArr/np.max(imgArr)\n",
    "    imgArr = 1/(imgArr+10**15.2)\n",
    "    \n",
    "    # scale between 0 and 1\n",
    "    imgArr -= np.min(imgArr)\n",
    "    imgArr = imgArr/np.max(imgArr)\n",
    "    \n",
    "    # remove low pixel values\n",
    "    removeLowValues = np.vectorize(lambda x: x if x > 0.5 else 0, otypes=[np.float])\n",
    "    imgArr = removeLowValues(imgArr)\n",
    "    \n",
    "    if size[0] == 0:\n",
    "        size = imgArr.shape[0], size[1]\n",
    "    if size[1] == 0:\n",
    "        size = size[0], imgArr.shape[1]\n",
    "    resamplingFactor = size[0]/imgArr.shape[0], size[1]/imgArr.shape[1]\n",
    "    if resamplingFactor[0] == 0:\n",
    "        resamplingFactor = 1, resamplingFactor[1]\n",
    "    if resamplingFactor[1] == 0:\n",
    "        resamplingFactor = resamplingFactor[0], 1\n",
    "    \n",
    "    # order : 0=nearestNeighbour, 1:bilinear, 2:cubic etc...\n",
    "    imgArr = scipy.ndimage.zoom(imgArr, resamplingFactor, order=0)\n",
    "    \n",
    "    if verbose:\n",
    "        print(\"Resampling factor\", resamplingFactor)\n",
    "        print(\"Image resized :\", imgArr.shape)\n",
    "        print(\"Max intensity: \", np.max(imgArr))\n",
    "        print(\"Min intensity: \", np.min(imgArr))\n",
    "        plotMat(imgArr)\n",
    "    return imgArr"
   ]
  },
  {
   "cell_type": "markdown",
   "metadata": {},
   "source": [
    "Generate sound from an image file"
   ]
  },
  {
   "cell_type": "code",
   "execution_count": null,
   "metadata": {},
   "outputs": [],
   "source": [
    "def genSoundFromImage(file, output=\"sound.wav\", duration=5.0, sampleRate=44100.0, maxfreq = 22000):\n",
    "    wavef = wave.open(output,'w')\n",
    "    wavef.setnchannels(1) # mono\n",
    "    wavef.setsampwidth(2) \n",
    "    wavef.setframerate(sampleRate)\n",
    "    \n",
    "    max_frame = int(duration * sampleRate)\n",
    "    max_freq = maxfreq # Hz\n",
    "    max_intensity = 32767\n",
    "    \n",
    "    stepSize = 400 # Hz\n",
    "    steppingSpectrum = int(max_freq/stepSize)\n",
    "    \n",
    "    imgMat = loadPicture((steppingSpectrum, max_frame), file, verbose=0)\n",
    "    imgMat *= max_intensity\n",
    "    print(\"Input: \", file)\n",
    "    print(\"Duration (in seconds): \", duration)\n",
    "    print(\"Sample rate: \", sampleRate)\n",
    "    print(\"Computing each soundframe sum value..\")\n",
    "    for frame in range(max_frame):\n",
    "        if frame % 60 == 0: # only print once in a while\n",
    "            IPython.display.clear_output(wait=True)\n",
    "            print(\"Progress: ==> {:.2%}\".format(frame/max_frame), end=\"\\r\")\n",
    "        signalValue, count = 0, 0\n",
    "        for step in range(steppingSpectrum):\n",
    "            intensity = imgMat[step, frame]\n",
    "            if intensity == 0:\n",
    "                continue\n",
    "            # nextFreq is less than currentFreq\n",
    "            currentFreq = max_freq - step * stepSize\n",
    "            nextFreq = max_freq - (step+1) * stepSize\n",
    "            if nextFreq < 0: # if we're at the end of the spectrum\n",
    "                nextFreq = 0\n",
    "            for freq in range(nextFreq, currentFreq, 1000): # substep of 1000 Hz works\n",
    "                signalValue += intensity*math.cos(freq * 2 * math.pi * float(frame) / float(sampleRate))\n",
    "                count += 1\n",
    "        if count == 0: count = 1\n",
    "        signalValue /= count\n",
    "        \n",
    "        data = struct.pack('<h', int(signalValue))\n",
    "        wavef.writeframesraw( data )\n",
    "        \n",
    "    wavef.writeframes(''.encode())\n",
    "    wavef.close()\n",
    "    IPython.display.clear_output(wait=True)\n",
    "    print(\"\\nProgress: ==> 100%\")\n",
    "    print(\"Output: \", output)"
   ]
  },
  {
   "cell_type": "markdown",
   "metadata": {},
   "source": [
    "# Run code"
   ]
  },
  {
   "cell_type": "code",
   "execution_count": null,
   "metadata": {},
   "outputs": [],
   "source": [
    "infile = \"gaysper.jpg\"\n",
    "outfile = \"ghost.wav\"\n",
    "genSoundFromImage(file=infile, output=outfile, duration=5.0, sampleRate=44100.0,maxfreq=22000)"
   ]
  },
  {
   "cell_type": "code",
   "execution_count": null,
   "metadata": {},
   "outputs": [],
   "source": [
    "plotSpectrogram(file=outfile)"
   ]
  }
 ],
 "metadata": {
  "kernelspec": {
   "display_name": "Python 3",
   "language": "python",
   "name": "python3"
  },
  "language_info": {
   "codemirror_mode": {
    "name": "ipython",
    "version": 3
   },
   "file_extension": ".py",
   "mimetype": "text/x-python",
   "name": "python",
   "nbconvert_exporter": "python",
   "pygments_lexer": "ipython3",
   "version": "3.7.6"
  }
 },
 "nbformat": 4,
 "nbformat_minor": 4
}
